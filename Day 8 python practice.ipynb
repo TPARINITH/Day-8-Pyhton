{
 "cells": [
  {
   "cell_type": "markdown",
   "metadata": {},
   "source": [
    "# PROBLEM SOLVING PROGRAMMING\n",
    "\n",
    "## DAY NO-8\n",
    "\n",
    "## DATE-11th MAY,2019"
   ]
  },
  {
   "cell_type": "markdown",
   "metadata": {},
   "source": [
    "## DAY OBJECTIVES\n",
    "\n",
    "1. OBJECTIVE--1\n",
    "2. OBJECTIVE--2\n",
    "3. OBJECTIVE--3"
   ]
  },
  {
   "cell_type": "markdown",
   "metadata": {},
   "source": [
    "### PROBLEM 1:\n",
    "\n",
    "#### PROBLEM STATEMENT:\n",
    "\n",
    "\n",
    "\n",
    "1. Define a function to check if a given year is a leap year. Returns a boolean value"
   ]
  },
  {
   "cell_type": "markdown",
   "metadata": {},
   "source": [
    "* 2000 -> True\n",
    "* 1900 -> False\n",
    "* 2012 -> True\n",
    "* 2020 -> True\n",
    "* 0200 -> False\n"
   ]
  },
  {
   "cell_type": "code",
   "execution_count": 39,
   "metadata": {},
   "outputs": [
    {
     "name": "stdout",
     "output_type": "stream",
     "text": [
      "Enter year to be checked:2012\n",
      "The year is a leap year\n"
     ]
    }
   ],
   "source": [
    "year=int(input(\"Enter year to be checked:\")) \n",
    "if(year%4==0 and year%100!=0 or year%400==0):  \n",
    "    print(\"The year is a leap year\") \n",
    "else: \n",
    "    print(\"The year isn't a leap year\")"
   ]
  },
  {
   "cell_type": "markdown",
   "metadata": {},
   "source": [
    "# PROBLEM 2:\n",
    "\n",
    "#### PROBLEM STATEMENT:\n",
    "\n",
    " Design a Python script to determine the difference in date for given two dates in YYYY:MM:DD format(0 <= YYYY <= 9999, 1 <= MM <= 12, 1 <= DD <= 31) following the leap year rules. Return the total number of days existing between the two dates.\n",
    " \n",
    "\n",
    "* dateDifference('2019:05:10', '2019:05:01') -> 9\n",
    "* dateDifference('0003:03:03', '0003:06:06') -> 95"
   ]
  },
  {
   "cell_type": "code",
   "execution_count": 88,
   "metadata": {},
   "outputs": [
    {
     "name": "stdout",
     "output_type": "stream",
     "text": [
      "9 days, 0:00:00\n"
     ]
    }
   ],
   "source": [
    "from datetime import date\n",
    "f_date = date(2014, 7, 2)\n",
    "l_date = date(2014, 7, 11)\n",
    "delta = l_date - f_date\n",
    "print(delta)"
   ]
  },
  {
   "cell_type": "code",
   "execution_count": 54,
   "metadata": {},
   "outputs": [
    {
     "name": "stdout",
     "output_type": "stream",
     "text": [
      "9 days\n"
     ]
    }
   ],
   "source": [
    "from datetime import date \n",
    "  \n",
    "def numOfDays(date1, date2): \n",
    "    return (date2-date1).days \n",
    "      \n",
    "date1 = date(2019, 5, 1) \n",
    "date2 = date(2019, 5, 10) \n",
    "print(numOfDays(date1, date2), \"days\") "
   ]
  },
  {
   "cell_type": "code",
   "execution_count": 53,
   "metadata": {},
   "outputs": [
    {
     "name": "stdout",
     "output_type": "stream",
     "text": [
      "95 days\n"
     ]
    }
   ],
   "source": [
    "from datetime import date \n",
    "  \n",
    "def numOfDays(date1, date2): \n",
    "    return (date2-date1).days \n",
    "      \n",
    "date1 = date(3,3,3) \n",
    "date2 = date(3, 6, 6) \n",
    "print(numOfDays(date1, date2), \"days\") "
   ]
  },
  {
   "cell_type": "markdown",
   "metadata": {},
   "source": [
    "# PROBLEM 3:\n",
    "\n",
    "#### PROBLEM STATEMENT:\n",
    "\n",
    " Define a function to merge the characters of two strings alternatively. The remaining characters\n",
    "\n",
    "   of the longer string are printed in the same order at the end.\n",
    "   \n",
    "* mergeString('abcd', 'abcd') -> 'aabbccdd'\n",
    "* mergeString('abc', '123456') -> 'a1b2c3456'\n",
    "* mergeString('0', '123456') -> '0123456'"
   ]
  },
  {
   "cell_type": "code",
   "execution_count": 89,
   "metadata": {},
   "outputs": [
    {
     "name": "stdout",
     "output_type": "stream",
     "text": [
      "enter the 1st stringab\n",
      "enter the 2nd stringcd\n",
      " acbd\n"
     ]
    }
   ],
   "source": [
    "s1=str(input(\"enter the 1st string\"))\n",
    "s2=str(input(\"enter the 2nd string\"))\n",
    "z=\" \"\n",
    "if(len(s1)==len(s2)):\n",
    "    for i in range(len(s2)):\n",
    "        z=z+(s1[i])\n",
    "        z=z+(s2[i])\n",
    "elif(len(s1)>len(s2)):\n",
    "    for i in range(len(s2)):\n",
    "        z=z+(s1[i])\n",
    "        z=z+(s2[i])\n",
    "    for i in range(len(s2),len(s1)):\n",
    "        z=z+(s1[i])\n",
    "else:\n",
    "     if(len(s1)<len(s2)):\n",
    "        for i in range(len(s1)):\n",
    "            z=z+(s1[i])\n",
    "            z=z+(s2[i])\n",
    "        for i in range(len(s1),len(s2)):\n",
    "            z=z+(s2[i])\n",
    "print(z)"
   ]
  },
  {
   "cell_type": "markdown",
   "metadata": {},
   "source": [
    "# PROBLEM 4:\n",
    "\n",
    "#### PROBLEM STATEMENT:\n",
    "\n",
    " Define a function to print the sequence of spiral pattern elements for a given N x N matrix\n",
    " \n",
    " \n",
    " \n",
    " * spiralPattern([[1,2,3], [4,5,6], [7,8,9]]) -> 1 2 3 6 9 8 7 4 5"
   ]
  },
  {
   "cell_type": "code",
   "execution_count": 4,
   "metadata": {},
   "outputs": [
    {
     "name": "stdout",
     "output_type": "stream",
     "text": [
      "1 2 3 6 9 8 7 4 5 "
     ]
    }
   ],
   "source": [
    "\n",
    "def spiralPrint(m, n, a) : \n",
    "    k = 0; l = 0\n",
    "  \n",
    "    ''' k - starting row index \n",
    "        m - ending row index \n",
    "        l - starting column index \n",
    "        n - ending column index \n",
    "        i - iterator''' \n",
    "      \n",
    "  \n",
    "    while (k < m and l < n) : \n",
    "          \n",
    "     \n",
    "        for i in range(l, n) : \n",
    "            print(a[k][i], end = \" \") \n",
    "              \n",
    "        k += 1\n",
    "  \n",
    "        \n",
    "        for i in range(k, m) : \n",
    "            print(a[i][n - 1], end = \" \") \n",
    "              \n",
    "        n -= 1\n",
    "   \n",
    "        if ( k < m) : \n",
    "              \n",
    "            for i in range(n - 1, (l - 1), -1) : \n",
    "                print(a[m - 1][i], end = \" \") \n",
    "              \n",
    "            m -= 1\n",
    "          \n",
    "          \n",
    "        if (l < n) : \n",
    "            for i in range(m - 1, k - 1, -1) : \n",
    "                print(a[i][l], end = \" \") \n",
    "              \n",
    "            l += 1\n",
    "  \n",
    " \n",
    "a = [ [1, 2, 3,], \n",
    "      [4, 5, 6,], \n",
    "      [7, 8, 9] ] \n",
    "        \n",
    "R = 3; C = 3\n",
    "spiralPrint(R, C, a) "
   ]
  },
  {
   "cell_type": "markdown",
   "metadata": {},
   "source": [
    "# PROBLEM 5:\n",
    "\n",
    "#### PROBLEM STATEMENT:\n",
    "\n",
    "\n",
    "Define a function to convert a binary number to the corresponding decimal number\n",
    "\n",
    "\n",
    "\n",
    "\n",
    "* binaryToDecimal(1100) -> 12\n",
    "* binaryToDecimal(1010) -> 10\n",
    "* binaryToDecimal(111000) -> 56"
   ]
  },
  {
   "cell_type": "code",
   "execution_count": 2,
   "metadata": {},
   "outputs": [
    {
     "data": {
      "text/plain": [
       "2"
      ]
     },
     "execution_count": 2,
     "metadata": {},
     "output_type": "execute_result"
    }
   ],
   "source": [
    "\n",
    "def BinaryToDecimal(n):\n",
    "    num=n\n",
    "    dec=0\n",
    "    base=1\n",
    "    temp=num\n",
    "    while(temp):\n",
    "        rem=temp%10\n",
    "        temp=temp//10\n",
    "        dec=dec+base*rem\n",
    "        base=base*2\n",
    "    return dec\n",
    "BinaryToDecimal(10)"
   ]
  },
  {
   "cell_type": "code",
   "execution_count": null,
   "metadata": {},
   "outputs": [],
   "source": []
  }
 ],
 "metadata": {
  "kernelspec": {
   "display_name": "Python 3",
   "language": "python",
   "name": "python3"
  },
  "language_info": {
   "codemirror_mode": {
    "name": "ipython",
    "version": 3
   },
   "file_extension": ".py",
   "mimetype": "text/x-python",
   "name": "python",
   "nbconvert_exporter": "python",
   "pygments_lexer": "ipython3",
   "version": "3.7.3"
  }
 },
 "nbformat": 4,
 "nbformat_minor": 2
}
